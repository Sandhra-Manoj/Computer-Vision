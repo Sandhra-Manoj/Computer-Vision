{
 "cells": [
  {
   "cell_type": "code",
   "execution_count": 2,
   "id": "424fc6b9",
   "metadata": {},
   "outputs": [
    {
     "name": "stdout",
     "output_type": "stream",
     "text": [
      "Collecting opencv-contrib-python\n",
      "  Obtaining dependency information for opencv-contrib-python from https://files.pythonhosted.org/packages/aa/2e/576ac47f21d555b459ca837bb3fb937e50339b8fbfd294945ea2f5290416/opencv_contrib_python-4.9.0.80-cp37-abi3-win_amd64.whl.metadata\n",
      "  Using cached opencv_contrib_python-4.9.0.80-cp37-abi3-win_amd64.whl.metadata (20 kB)\n",
      "Requirement already satisfied: numpy>=1.21.2 in c:\\users\\dell\\anaconda3\\lib\\site-packages (from opencv-contrib-python) (1.24.3)\n",
      "Downloading opencv_contrib_python-4.9.0.80-cp37-abi3-win_amd64.whl (45.3 MB)\n",
      "   ---------------------------------------- 0.0/45.3 MB ? eta -:--:--\n",
      "   ---------------------------------------- 0.0/45.3 MB ? eta -:--:--\n",
      "   ---------------------------------------- 0.1/45.3 MB 1.7 MB/s eta 0:00:28\n",
      "   ---------------------------------------- 0.2/45.3 MB 2.1 MB/s eta 0:00:22\n",
      "   ---------------------------------------- 0.5/45.3 MB 3.1 MB/s eta 0:00:15\n",
      "    --------------------------------------- 0.9/45.3 MB 4.5 MB/s eta 0:00:10\n",
      "   - -------------------------------------- 1.7/45.3 MB 6.3 MB/s eta 0:00:07\n",
      "   -- ------------------------------------- 3.0/45.3 MB 9.6 MB/s eta 0:00:05\n",
      "   ---- ----------------------------------- 4.9/45.3 MB 14.3 MB/s eta 0:00:03\n",
      "   ----- ---------------------------------- 5.9/45.3 MB 15.6 MB/s eta 0:00:03\n",
      "   ----- ---------------------------------- 5.9/45.3 MB 15.6 MB/s eta 0:00:03\n",
      "   ------ --------------------------------- 6.8/45.3 MB 14.5 MB/s eta 0:00:03\n",
      "   ------ --------------------------------- 7.3/45.3 MB 14.2 MB/s eta 0:00:03\n",
      "   ------ --------------------------------- 7.7/45.3 MB 13.7 MB/s eta 0:00:03\n",
      "   ------- -------------------------------- 8.6/45.3 MB 14.1 MB/s eta 0:00:03\n",
      "   -------- ------------------------------- 9.5/45.3 MB 14.8 MB/s eta 0:00:03\n",
      "   --------- ------------------------------ 10.5/45.3 MB 18.7 MB/s eta 0:00:02\n",
      "   ---------- ----------------------------- 11.4/45.3 MB 20.5 MB/s eta 0:00:02\n",
      "   ---------- ----------------------------- 12.4/45.3 MB 20.5 MB/s eta 0:00:02\n",
      "   ------------ --------------------------- 14.4/45.3 MB 20.5 MB/s eta 0:00:02\n",
      "   -------------- ------------------------- 16.8/45.3 MB 25.2 MB/s eta 0:00:02\n",
      "   ---------------- ----------------------- 18.4/45.3 MB 29.7 MB/s eta 0:00:01\n",
      "   ----------------- ---------------------- 19.9/45.3 MB 32.7 MB/s eta 0:00:01\n",
      "   ----------------- ---------------------- 19.9/45.3 MB 32.7 MB/s eta 0:00:01\n",
      "   ------------------- -------------------- 22.3/45.3 MB 36.4 MB/s eta 0:00:01\n",
      "   ---------------------- ----------------- 24.9/45.3 MB 40.9 MB/s eta 0:00:01\n",
      "   ---------------------- ----------------- 26.0/45.3 MB 34.4 MB/s eta 0:00:01\n",
      "   ------------------------- -------------- 28.7/45.3 MB 40.9 MB/s eta 0:00:01\n",
      "   -------------------------- ------------- 30.3/45.3 MB 43.7 MB/s eta 0:00:01\n",
      "   ---------------------------- ----------- 31.7/45.3 MB 40.9 MB/s eta 0:00:01\n",
      "   ----------------------------- ---------- 33.1/45.3 MB 38.5 MB/s eta 0:00:01\n",
      "   ------------------------------ --------- 34.4/45.3 MB 34.4 MB/s eta 0:00:01\n",
      "   ------------------------------- -------- 35.7/45.3 MB 36.4 MB/s eta 0:00:01\n",
      "   -------------------------------- ------- 37.0/45.3 MB 36.4 MB/s eta 0:00:01\n",
      "   --------------------------------- ------ 38.4/45.3 MB 31.1 MB/s eta 0:00:01\n",
      "   ----------------------------------- ---- 39.7/45.3 MB 31.2 MB/s eta 0:00:01\n",
      "   ------------------------------------ --- 40.8/45.3 MB 31.2 MB/s eta 0:00:01\n",
      "   ------------------------------------- -- 42.0/45.3 MB 31.2 MB/s eta 0:00:01\n",
      "   -------------------------------------- - 43.4/45.3 MB 31.2 MB/s eta 0:00:01\n",
      "   ---------------------------------------  45.1/45.3 MB 31.2 MB/s eta 0:00:01\n",
      "   ---------------------------------------  45.3/45.3 MB 31.2 MB/s eta 0:00:01\n",
      "   ---------------------------------------  45.3/45.3 MB 31.2 MB/s eta 0:00:01\n",
      "   ---------------------------------------  45.3/45.3 MB 31.2 MB/s eta 0:00:01\n",
      "   ---------------------------------------  45.3/45.3 MB 31.2 MB/s eta 0:00:01\n",
      "   ---------------------------------------- 45.3/45.3 MB 18.7 MB/s eta 0:00:00\n",
      "Installing collected packages: opencv-contrib-python\n",
      "Successfully installed opencv-contrib-python-4.9.0.80\n"
     ]
    }
   ],
   "source": [
    "!pip install opencv-contrib-python"
   ]
  },
  {
   "cell_type": "code",
   "execution_count": 1,
   "id": "c526a074",
   "metadata": {},
   "outputs": [],
   "source": [
    "import cv2\n",
    "import matplotlib.pyplot as plt\n",
    "import numpy as np"
   ]
  },
  {
   "cell_type": "markdown",
   "id": "223ecde9",
   "metadata": {},
   "source": [
    "### Reading images"
   ]
  },
  {
   "cell_type": "code",
   "execution_count": 2,
   "id": "92169c03",
   "metadata": {},
   "outputs": [],
   "source": [
    "img=cv2.imread('photos.jpg')"
   ]
  },
  {
   "cell_type": "markdown",
   "id": "0be289b3",
   "metadata": {},
   "source": [
    "### Displaying images in python"
   ]
  },
  {
   "cell_type": "code",
   "execution_count": 3,
   "id": "b665aa7e",
   "metadata": {},
   "outputs": [],
   "source": [
    "cv2.imshow('hello',img)\n",
    "cv2.waitKey(0)\n",
    "cv2.destroyAllWindows()"
   ]
  },
  {
   "cell_type": "markdown",
   "id": "1c93b0f7",
   "metadata": {},
   "source": [
    "### Saving images"
   ]
  },
  {
   "cell_type": "code",
   "execution_count": 4,
   "id": "e467afc6",
   "metadata": {},
   "outputs": [
    {
     "name": "stdout",
     "output_type": "stream",
     "text": [
      "Image written success? : True\n"
     ]
    }
   ],
   "source": [
    "status=cv2.imwrite(r'D:\\Computer vision\\photos.jpg',img)\n",
    "status=cv2.imwrite('Images.jpg',img)\n",
    "print('Image written success? :',status)"
   ]
  },
  {
   "cell_type": "code",
   "execution_count": 5,
   "id": "96e2ad65",
   "metadata": {},
   "outputs": [
    {
     "name": "stdout",
     "output_type": "stream",
     "text": [
      "[[[196 182 159]\n",
      "  [200 188 164]\n",
      "  [198 191 166]\n",
      "  ...\n",
      "  [ 30  68  46]\n",
      "  [151 165 147]\n",
      "  [183 186 170]]\n",
      "\n",
      " [[195 181 158]\n",
      "  [198 186 162]\n",
      "  [198 191 166]\n",
      "  ...\n",
      "  [ 11  42  21]\n",
      "  [119 131 113]\n",
      "  [179 180 164]]\n",
      "\n",
      " [[197 183 160]\n",
      "  [195 183 159]\n",
      "  [196 186 162]\n",
      "  ...\n",
      "  [ 14  36  17]\n",
      "  [100 106  87]\n",
      "  [188 186 168]]\n",
      "\n",
      " ...\n",
      "\n",
      " [[ 22 132 108]\n",
      "  [  4 116  92]\n",
      "  [  0 116  93]\n",
      "  ...\n",
      "  [  9 139 114]\n",
      "  [  4 151 129]\n",
      "  [  2 159 139]]\n",
      "\n",
      " [[ 16 125  99]\n",
      "  [  1 111  87]\n",
      "  [  0 107  85]\n",
      "  ...\n",
      "  [  9 137 112]\n",
      "  [  0 145 123]\n",
      "  [  0 150 131]]\n",
      "\n",
      " [[  8 117  91]\n",
      "  [  0 105  82]\n",
      "  [  0 100  78]\n",
      "  ...\n",
      "  [  9 137 112]\n",
      "  [  0 142 120]\n",
      "  [  0 146 127]]]\n"
     ]
    }
   ],
   "source": [
    "print(img)"
   ]
  },
  {
   "cell_type": "markdown",
   "id": "5f5015fe",
   "metadata": {},
   "source": [
    "### Converting image to greyscale"
   ]
  },
  {
   "cell_type": "code",
   "execution_count": 6,
   "id": "ac8ce901",
   "metadata": {},
   "outputs": [],
   "source": [
    "imgGray=cv2.cvtColor(img,cv2.COLOR_BGR2GRAY)\n",
    "cv2.imshow('Gray image',imgGray)\n",
    "cv2.waitKey(0)\n",
    "cv2.destroyAllWindows()"
   ]
  },
  {
   "cell_type": "code",
   "execution_count": 7,
   "id": "288c122c",
   "metadata": {},
   "outputs": [
    {
     "name": "stdout",
     "output_type": "stream",
     "text": [
      "[[177 182 184 ...  57 158 181]\n",
      " [176 180 184 ...  32 124 175]\n",
      " [178 177 180 ...  28 100 181]\n",
      " ...\n",
      " [112  96  96 ... 117 128 135]\n",
      " [105  91  88 ... 115 122 127]\n",
      " [ 97  86  82 ... 115 119 124]]\n"
     ]
    }
   ],
   "source": [
    "print(imgGray)"
   ]
  },
  {
   "cell_type": "markdown",
   "id": "7925f1e8",
   "metadata": {},
   "source": [
    "### Edge detecton"
   ]
  },
  {
   "cell_type": "code",
   "execution_count": 8,
   "id": "f0e4f66d",
   "metadata": {},
   "outputs": [],
   "source": [
    "imgCanny=cv2.Canny(img,150,250)\n",
    "cv2.imshow('Canny image',imgCanny)\n",
    "cv2.waitKey(0)\n",
    "cv2.destroyAllWindows()"
   ]
  },
  {
   "cell_type": "markdown",
   "id": "2c816da3",
   "metadata": {},
   "source": [
    "### Croping image"
   ]
  },
  {
   "cell_type": "code",
   "execution_count": 9,
   "id": "8401b729",
   "metadata": {},
   "outputs": [],
   "source": [
    "width,height=250,350\n",
    "point1=np.float32([[111,219],[287,188],[154,482],[352,440]])\n",
    "point2=np.float32([[0,0],[width,0],[0,height],[width,height]])\n",
    "matrix=cv2.getPerspectiveTransform(point1,point2)\n",
    "cropped=cv2.warpPerspective(img,matrix,(width,height))\n",
    "\n",
    "cv2.imshow('output',cropped)\n",
    "cv2.waitKey(0)\n",
    "cv2.destroyAllWindows()"
   ]
  },
  {
   "cell_type": "markdown",
   "id": "fa01058f",
   "metadata": {},
   "source": [
    "### Access image properties"
   ]
  },
  {
   "cell_type": "code",
   "execution_count": 10,
   "id": "be363204",
   "metadata": {},
   "outputs": [
    {
     "name": "stdout",
     "output_type": "stream",
     "text": [
      "(510, 1020, 3)\n",
      "Height=510,Width=1020\n"
     ]
    }
   ],
   "source": [
    "print(img.shape)\n",
    "\n",
    "#extracting the height and width of an image\n",
    "h,w=img.shape[:2]\n",
    "# displaying the height and width\n",
    "print('Height={},Width={}'.format(h,w)) #*(3-color,1-gray)"
   ]
  },
  {
   "cell_type": "code",
   "execution_count": 11,
   "id": "9d2cbd08",
   "metadata": {},
   "outputs": [
    {
     "name": "stdout",
     "output_type": "stream",
     "text": [
      "1560600\n"
     ]
    }
   ],
   "source": [
    "print(img.size)"
   ]
  },
  {
   "cell_type": "code",
   "execution_count": 12,
   "id": "8679cbee",
   "metadata": {},
   "outputs": [
    {
     "name": "stdout",
     "output_type": "stream",
     "text": [
      "uint8\n"
     ]
    }
   ],
   "source": [
    "print(img.dtype)"
   ]
  },
  {
   "cell_type": "markdown",
   "id": "1f0d25bc",
   "metadata": {},
   "source": [
    "### Extracting the Region Of Interest(ROI)"
   ]
  },
  {
   "cell_type": "code",
   "execution_count": 13,
   "id": "4dcc0d7f",
   "metadata": {},
   "outputs": [],
   "source": [
    "# we will calculate the ROI\n",
    "# by slicing the pixels of the image\n",
    "roi=img[100:500,200:700]\n",
    "cv2.imshow('image',roi)\n",
    "cv2.waitKey(0)\n",
    "cv2.destroyAllWindows()"
   ]
  },
  {
   "cell_type": "markdown",
   "id": "a3b281b3",
   "metadata": {},
   "source": [
    "### Resizing the image"
   ]
  },
  {
   "cell_type": "code",
   "execution_count": 14,
   "id": "fa739c4b",
   "metadata": {},
   "outputs": [],
   "source": [
    "# resize() function takes 2 parameters, the image and the dimensions\n",
    "resize=cv2.resize(img,(500,500))\n",
    "cv2.imshow('image',resize)\n",
    "cv2.waitKey(0)\n",
    "cv2.destroyAllWindows()"
   ]
  },
  {
   "cell_type": "code",
   "execution_count": 15,
   "id": "2de6edc7",
   "metadata": {},
   "outputs": [
    {
     "name": "stdout",
     "output_type": "stream",
     "text": [
      "(500, 500, 3)\n"
     ]
    }
   ],
   "source": [
    "print(resize.shape)"
   ]
  },
  {
   "cell_type": "code",
   "execution_count": 16,
   "id": "f7ab3aec",
   "metadata": {},
   "outputs": [
    {
     "name": "stdout",
     "output_type": "stream",
     "text": [
      "(250, 500, 3)\n"
     ]
    }
   ],
   "source": [
    "w=1020\n",
    "h=510\n",
    "# calculating the ratio\n",
    "ratio=500/w\n",
    "# creating a tuple containing width and height\n",
    "dim=(500,int(h*ratio))\n",
    "\n",
    "#resize the image\n",
    "resize_aspect=cv2.resize(img,dim)\n",
    "\n",
    "cv2.imshow('image',resize_aspect)\n",
    "cv2.waitKey(0)\n",
    "cv2.destroyAllWindows()\n",
    "\n",
    "print(resize_aspect.shape)"
   ]
  },
  {
   "cell_type": "markdown",
   "id": "5e9a6385",
   "metadata": {},
   "source": [
    "### Rotating the image"
   ]
  },
  {
   "cell_type": "code",
   "execution_count": 17,
   "id": "5a4f907d",
   "metadata": {},
   "outputs": [],
   "source": [
    "w=1020\n",
    "h=510\n",
    "# calculating the center of the image\n",
    "center=(w//2,h//2)\n",
    "\n",
    "# generating a rotation matrix\n",
    "matrix=cv2.getRotationMatrix2D(center,-90,1.0)\n",
    "\n",
    "#performing the affine transformation\n",
    "rotated=cv2.warpAffine(img,matrix,(w,h))\n",
    "\n",
    "cv2.imshow('image',rotated)\n",
    "cv2.waitKey(0)\n",
    "cv2.destroyAllWindows()"
   ]
  },
  {
   "cell_type": "markdown",
   "id": "dd67a5bb",
   "metadata": {},
   "source": [
    "### drawing Rectangle"
   ]
  },
  {
   "cell_type": "code",
   "execution_count": 18,
   "id": "aed21dc4",
   "metadata": {},
   "outputs": [],
   "source": [
    "# we are coping the original image, as it is an in=place operation.\n",
    "output=img.copy()\n",
    "\n",
    "# using the rectangle function to create a rectangle\n",
    "rectangle=cv2.rectangle(output,(660,250),(350,10),(255,0,0),2)\n",
    "\n",
    "cv2.imshow('image',rectangle)\n",
    "cv2.waitKey(0)\n",
    "cv2.destroyAllWindows()"
   ]
  },
  {
   "cell_type": "markdown",
   "id": "045d7d68",
   "metadata": {},
   "source": [
    "### Drawing circle"
   ]
  },
  {
   "cell_type": "code",
   "execution_count": 51,
   "id": "65a90d42",
   "metadata": {},
   "outputs": [],
   "source": [
    "output=img.copy()\n",
    "circle=cv2.circle(output,(500,250),257,(255,0,0),2)\n",
    "\n",
    "cv2.imshow('image',circle)\n",
    "cv2.waitKey(0)\n",
    "cv2.destroyAllWindows()"
   ]
  },
  {
   "cell_type": "markdown",
   "id": "da3a4fec",
   "metadata": {},
   "source": [
    "### Drawing poylines"
   ]
  },
  {
   "cell_type": "code",
   "execution_count": 68,
   "id": "4d3ce950",
   "metadata": {},
   "outputs": [],
   "source": [
    "output=img.copy()\n",
    "#defining points for polylines\n",
    "pts=np.array([[300,100],[400,300],[900,300],[600,200]],np.int32)\n",
    "\n",
    "poly=cv2.polylines(output,[pts],True,(0,255,255),3)\n",
    "cv2.imshow('image',poly)\n",
    "cv2.waitKey(0)\n",
    "cv2.destroyAllWindows()"
   ]
  },
  {
   "cell_type": "markdown",
   "id": "0e00edb1",
   "metadata": {},
   "source": [
    "### Displaying Text"
   ]
  },
  {
   "cell_type": "code",
   "execution_count": 28,
   "id": "c7bb7346",
   "metadata": {},
   "outputs": [],
   "source": [
    "output=img.copy()\n",
    "\n",
    "text=cv2.putText(output,'Panda',(50,500),cv2.FONT_HERSHEY_SIMPLEX,4,(255,0,0),2)\n",
    "cv2.imshow('image',output)\n",
    "cv2.waitKey(0)\n",
    "cv2.destroyAllWindows()"
   ]
  },
  {
   "cell_type": "markdown",
   "id": "8290b67a",
   "metadata": {},
   "source": [
    "### Tresholding"
   ]
  },
  {
   "cell_type": "code",
   "execution_count": 69,
   "id": "0a7a90bf",
   "metadata": {},
   "outputs": [],
   "source": [
    "imgGray=cv2.cvtColor(img,cv2.COLOR_BGR2GRAY)\n",
    "# threshold the image by setting all pixel values less than 225\n",
    "# to 255 (white;foreground),and all pixel values >= 225 to255\n",
    "# (black; background),therby segmenting the image\n",
    "\n",
    "thresh=cv2.threshold(imgGray,50,255,cv2.THRESH_BINARY_INV)[1]\n",
    "cv2.imshow('THRESH',thresh)\n",
    "cv2.waitKey(0)\n",
    "cv2.destroyAllWindows()"
   ]
  },
  {
   "cell_type": "markdown",
   "id": "6a6dbc2c",
   "metadata": {},
   "source": [
    "### Playing video using video capture () function"
   ]
  },
  {
   "cell_type": "code",
   "execution_count": 38,
   "id": "4c9db808",
   "metadata": {},
   "outputs": [],
   "source": [
    "cap=cv2.VideoCapture('PROJECT.mp4')\n",
    "# check if camera opened successfully\n",
    "\n",
    "if (cap.isOpened()==False):\n",
    "    print('Error opening video file')\n",
    "# read until video is complicated\n",
    "while(cap.isOpened()):\n",
    "# capture frame by frame\n",
    "    ret,frame=cap.read()\n",
    "    if ret==True:\n",
    "        #displaying the resulting frame\n",
    "        cv2.imshow('Frame',frame)\n",
    "        #press Q on keyboard to exit\n",
    "        if cv2.waitKey(25) & 0xFF ==ord('q'):\n",
    "            break #break the loop\n",
    "            \n",
    "    else:\n",
    "        break\n",
    "#when everything done,release\n",
    "# the video capture object\n",
    "cap.release()\n",
    "# close all the frames\n",
    "cv2.destroyAllWindows()"
   ]
  },
  {
   "cell_type": "code",
   "execution_count": null,
   "id": "868a6043",
   "metadata": {},
   "outputs": [],
   "source": [
    "### Capture camera"
   ]
  },
  {
   "cell_type": "code",
   "execution_count": 39,
   "id": "79668ae7",
   "metadata": {},
   "outputs": [],
   "source": [
    "cap=cv2.VideoCapture(0)\n",
    "# check if camera opened successfully\n",
    "\n",
    "if (cap.isOpened()==False):\n",
    "    print('Error opening video file')\n",
    "# read until video is complicated\n",
    "while(cap.isOpened()):\n",
    "# capture frame by frame\n",
    "    ret,frame=cap.read()\n",
    "    if ret==True:\n",
    "        #displaying the resulting frameq\n",
    "        cv2.imshow('Frame',frame)\n",
    "        #press Q on keyboard to exit\n",
    "        if cv2.waitKey(25) & 0xFF ==ord('q'):\n",
    "            break #break the loop\n",
    "            \n",
    "    else:\n",
    "        break\n",
    "#when everything done,release\n",
    "# the video capture object\n",
    "cap.release()\n",
    "# close all the frames\n",
    "cv2.destroyAllWindows()"
   ]
  },
  {
   "cell_type": "markdown",
   "id": "26bc20ba",
   "metadata": {},
   "source": [
    "## Saving video"
   ]
  },
  {
   "cell_type": "code",
   "execution_count": null,
   "id": "b298a47c",
   "metadata": {},
   "outputs": [],
   "source": [
    "cap=cv2.VideoCapture(0)\n",
    "fourcc=cv2.VideoWriter_fourcc(*'XVID')\n",
    "out=cv2.VideoWriter('output.avi',fourcc,20.0,(640,480))\n",
    "\n",
    "while(cap.isOpened()):\n",
    "    ret,frame=cap.read()\n",
    "    if ret==True:\n",
    "        #write the flipped frame\n",
    "        out.write(frame)\n",
    "        #press Q on keyboard to exit\n",
    "        if cv2.waitKey(1) & 0xFF ==ord('q'):\n",
    "            break #break the loop\n",
    "            \n",
    "    else:\n",
    "        break\n",
    "\n",
    "# release everything if job is finished\n",
    "cap.release()\n",
    "out.release()\n",
    "cv2.destroyAllWindows()"
   ]
  },
  {
   "cell_type": "code",
   "execution_count": null,
   "id": "fc831c21",
   "metadata": {},
   "outputs": [],
   "source": []
  }
 ],
 "metadata": {
  "kernelspec": {
   "display_name": "Python 3 (ipykernel)",
   "language": "python",
   "name": "python3"
  },
  "language_info": {
   "codemirror_mode": {
    "name": "ipython",
    "version": 3
   },
   "file_extension": ".py",
   "mimetype": "text/x-python",
   "name": "python",
   "nbconvert_exporter": "python",
   "pygments_lexer": "ipython3",
   "version": "3.11.4"
  }
 },
 "nbformat": 4,
 "nbformat_minor": 5
}
